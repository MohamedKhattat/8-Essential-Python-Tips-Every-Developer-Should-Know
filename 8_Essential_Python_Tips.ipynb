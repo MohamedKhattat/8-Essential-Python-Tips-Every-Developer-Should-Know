{
 "cells": [
  {
   "cell_type": "code",
   "execution_count": null,
   "id": "0cd25c91",
   "metadata": {},
   "outputs": [],
   "source": []
  },
  {
   "cell_type": "markdown",
   "id": "2426fa31",
   "metadata": {},
   "source": [
    "# 🌟 Essential Python Functions 🌟\n",
    "\n",
    "## Enhance Your Coding Skills with These Key Python Functions\n",
    "\n",
    "\n",
    "\n",
    "## 🔍 Key Python Functions Overview\n",
    "\n",
    "Here's a quick overview of some key Python functions:\n",
    "\n",
    "- **`all()`**: ✅ Verify if all elements in an iterable are `True`.\n",
    "- **`any()`**: ❓ Check if any element in an iterable is `True`.\n",
    "- **`zip()`**: 🔗 Combine multiple iterables into a single iterable.\n",
    "- **`enumerate()`**: 🔢 Track indices while iterating through sequences.\n",
    "- **`reversed()`**: 🔄 Reverse the order of elements in a sequence.\n",
    "- **`min()`**: 📉 Find the smallest item in a sequence.\n",
    "- **`max()`**: 📈 Determine the largest item in a sequence.\n",
    "- **`sorted()`**: 🗂️ Sort iterables in ascending or descending order.\n",
    "\n",
    "---\n",
    "\n",
    "##  In-Depth Examples \n",
    "---\n",
    "\n",
    "### Using `all()` to Validate RGB Values\n",
    "\n",
    "#### Function Description\n",
    "- The `all()` function checks if all elements in an iterable (like a list or tuple) are `True`.\n",
    "- If any element is `False`, it returns `False`.\n",
    "- Otherwise, it returns `True`.\n",
    "\n",
    "#### Implementing `valid_rgb()`\n",
    "- We'll implement a function `valid_rgb()` to check if RGB values are within the valid range (0-255).\n",
    "- Different implementations for this function will be shown.\n",
    "\n",
    "\n",
    "---"
   ]
  },
  {
   "cell_type": "code",
   "execution_count": null,
   "id": "4c8c5ab7",
   "metadata": {},
   "outputs": [],
   "source": []
  },
  {
   "cell_type": "code",
   "execution_count": null,
   "id": "937bf3b9",
   "metadata": {},
   "outputs": [],
   "source": []
  },
  {
   "cell_type": "markdown",
   "id": "dbd5d3ad",
   "metadata": {},
   "source": [
    "### First Implementation : Using a for Loop\n"
   ]
  },
  {
   "cell_type": "code",
   "execution_count": 1,
   "id": "ad7eb8dd",
   "metadata": {},
   "outputs": [],
   "source": [
    "def valid_rgb(rgb):\n",
    "    for val in rgb:\n",
    "        if not 0 <= val <= 255:\n",
    "            return False\n",
    "    return True"
   ]
  },
  {
   "cell_type": "markdown",
   "id": "0a011888",
   "metadata": {},
   "source": [
    "### Explanation\n",
    "\n",
    "- This implementation uses a `for` loop to iterate through each value in the `rgb` tuple.\n",
    "- It checks if each value is within the range 0-255.\n",
    "- If any value is outside this range, it returns `False`.\n",
    "- If all values are within the range, it returns `True`.\n"
   ]
  },
  {
   "cell_type": "code",
   "execution_count": null,
   "id": "e45a35b7",
   "metadata": {},
   "outputs": [],
   "source": []
  },
  {
   "cell_type": "code",
   "execution_count": null,
   "id": "a334463e",
   "metadata": {},
   "outputs": [],
   "source": []
  },
  {
   "cell_type": "markdown",
   "id": "ca4481a4",
   "metadata": {},
   "source": [
    "##  Second Implementation: Using a while Loop\n"
   ]
  },
  {
   "cell_type": "code",
   "execution_count": 2,
   "id": "2f4d3bda",
   "metadata": {},
   "outputs": [],
   "source": [
    "def valid_rgb(rgb):\n",
    "    i = 0\n",
    "    while i < len(rgb):\n",
    "        if not 0 <= rgb[i] <= 255:\n",
    "            return False\n",
    "        i += 1\n",
    "    return True"
   ]
  },
  {
   "cell_type": "markdown",
   "id": "eeee6e26",
   "metadata": {},
   "source": [
    "### Explanation\n",
    "\n",
    "- This implementation uses a `while` loop to achieve the same functionality as the `for` loop version.\n",
    "- It iterates through each value in the `rgb` tuple, checking if it lies within the 0-255 range.\n",
    "- The loop continues until all values are checked or a value outside the range is found.\n"
   ]
  },
  {
   "cell_type": "code",
   "execution_count": null,
   "id": "ba63598a",
   "metadata": {},
   "outputs": [],
   "source": []
  },
  {
   "cell_type": "code",
   "execution_count": null,
   "id": "ad7bab6f",
   "metadata": {},
   "outputs": [],
   "source": []
  },
  {
   "cell_type": "markdown",
   "id": "3fc27b63",
   "metadata": {},
   "source": [
    "## Third Implementation: Using List Comprehension"
   ]
  },
  {
   "cell_type": "code",
   "execution_count": 3,
   "id": "2a92858f",
   "metadata": {},
   "outputs": [],
   "source": [
    "def valid_rgb(rgb):\n",
    "    return all([0 <= val <= 255 for val in rgb])"
   ]
  },
  {
   "cell_type": "markdown",
   "id": "042f6e71",
   "metadata": {},
   "source": [
    "### Explanation\n",
    "\n",
    "- This implementation uses list comprehension along with the `all()` function to check if all values in the `rgb` tuple are within the range 0-255.\n",
    "- List comprehension creates a list of boolean values (`True` or `False`) for each check.\n",
    "- The `all()` function ensures all values are `True`."
   ]
  },
  {
   "cell_type": "code",
   "execution_count": null,
   "id": "6d511e52",
   "metadata": {},
   "outputs": [],
   "source": []
  },
  {
   "cell_type": "code",
   "execution_count": null,
   "id": "98d40d81",
   "metadata": {},
   "outputs": [],
   "source": []
  },
  {
   "cell_type": "markdown",
   "id": "9f9f8e76",
   "metadata": {},
   "source": [
    "## Fourth Implementation: Using a Generator Expression"
   ]
  },
  {
   "cell_type": "code",
   "execution_count": 4,
   "id": "cb88c766",
   "metadata": {},
   "outputs": [],
   "source": [
    "def valid_rgb(rgb):\n",
    "    return all(0 <= val <= 255 for val in rgb)"
   ]
  },
  {
   "cell_type": "markdown",
   "id": "6ce100bd",
   "metadata": {},
   "source": [
    "### Explanation\n",
    "\n",
    "- This implementation is similar to the list comprehension method but uses a generator expression.\n",
    "- The `all()` function processes each value one by one, which is more memory efficient than creating a full list of boolean values.\n"
   ]
  },
  {
   "cell_type": "code",
   "execution_count": null,
   "id": "99d3448c",
   "metadata": {},
   "outputs": [],
   "source": []
  },
  {
   "cell_type": "markdown",
   "id": "28cfb7cd",
   "metadata": {},
   "source": [
    "## ✅ Validation of Test Cases"
   ]
  },
  {
   "cell_type": "code",
   "execution_count": 5,
   "id": "0ff0d701",
   "metadata": {},
   "outputs": [
    {
     "name": "stdout",
     "output_type": "stream",
     "text": [
      "- Testing Line 1: (23, 4, 225) - result=True, expected=True\n",
      "\n",
      "- Testing Line 2: (255, 255, 255) - result=True, expected=True\n",
      "\n",
      "- Testing Line 3: (300, 255, 200) - result=False, expected=False\n",
      "\n",
      "- Testing Line 4: (250, 270, 190) - result=False, expected=False\n",
      "\n",
      "- Testing Line 5: (250, 103, 490) - result=False, expected=False\n",
      "\n",
      "Test cases validation completed..🎯🥳\n"
     ]
    }
   ],
   "source": [
    "test_cases = [\n",
    "    ((23, 4, 225), True),    \n",
    "    ((255, 255, 255), True), \n",
    "    ((300, 255, 200), False),\n",
    "    ((250, 270, 190), False),\n",
    "    ((250, 103, 490), False)\n",
    "]\n",
    "\n",
    "# Validate test cases using print with line numbers\n",
    "for i, (rgb, expected) in enumerate(test_cases, start=1):\n",
    "    result = valid_rgb(rgb)\n",
    "    print(f\"- Testing Line {i}: {rgb} - result={result}, expected={expected}\")\n",
    "    if result != expected:\n",
    "        print(f\"Line {i}: Test case {rgb} failed: Expected {expected} but got {result}\")\n",
    "    else:\n",
    "        print(\"\")\n",
    "\n",
    "print('Test cases validation completed..🎯🥳')"
   ]
  },
  {
   "cell_type": "code",
   "execution_count": null,
   "id": "f32e18ba",
   "metadata": {},
   "outputs": [],
   "source": []
  },
  {
   "cell_type": "code",
   "execution_count": 6,
   "id": "e3dddf7a",
   "metadata": {},
   "outputs": [
    {
     "data": {
      "text/plain": [
       "False"
      ]
     },
     "execution_count": 6,
     "metadata": {},
     "output_type": "execute_result"
    }
   ],
   "source": [
    "all(['Ronaldo','16','AA',''])"
   ]
  },
  {
   "cell_type": "code",
   "execution_count": 7,
   "id": "78b25eb2",
   "metadata": {},
   "outputs": [
    {
     "data": {
      "text/plain": [
       "True"
      ]
     },
     "execution_count": 7,
     "metadata": {},
     "output_type": "execute_result"
    }
   ],
   "source": [
    "all(['Vini','16','AA','Y5'])"
   ]
  },
  {
   "cell_type": "markdown",
   "id": "ad9201c7",
   "metadata": {},
   "source": [
    "## 📋 Conclusion\n",
    "\n",
    "- Understanding different ways to implement and validate functions in Python is crucial for writing robust and efficient code.\n",
    "- Using `all()` and exploring various implementations enhances our ability to handle different scenarios in coding.\n"
   ]
  },
  {
   "cell_type": "code",
   "execution_count": null,
   "id": "9a493ce1",
   "metadata": {},
   "outputs": [],
   "source": []
  },
  {
   "cell_type": "code",
   "execution_count": null,
   "id": "a21b2d87",
   "metadata": {},
   "outputs": [],
   "source": []
  },
  {
   "cell_type": "markdown",
   "id": "27c7c600",
   "metadata": {},
   "source": [
    "### Using `any()` to Check for Digits\n",
    "\n",
    "#### Function Description\n",
    "- The `any()` function checks if any element in an iterable is `True`.\n",
    "- If any element is `True`, it returns `True`.\n",
    "- Otherwise, it returns `False`.\n",
    "\n",
    "#### Implementing `contains_digit()`\n",
    "- We'll implement a function `contains_digit()` to check if a string contains any digit.\n"
   ]
  },
  {
   "cell_type": "code",
   "execution_count": null,
   "id": "4979a253",
   "metadata": {},
   "outputs": [],
   "source": []
  },
  {
   "cell_type": "markdown",
   "id": "faaf2f7c",
   "metadata": {},
   "source": [
    "## First Implementation: Using a for Loop\n"
   ]
  },
  {
   "cell_type": "code",
   "execution_count": 8,
   "id": "d1fd377f",
   "metadata": {},
   "outputs": [],
   "source": [
    "def contains_digit(input_user):\n",
    "    for char in input_user:\n",
    "        if char.isdigit():\n",
    "            return True\n",
    "    return False"
   ]
  },
  {
   "cell_type": "markdown",
   "id": "e6f935ef",
   "metadata": {},
   "source": [
    "### Explanation\n",
    "\n",
    "- This implementation uses a `for` loop to iterate through each character in the `input_user` string.\n",
    "- It checks if any character is a digit using the `isdigit()` method.\n",
    "- If a digit is found, it returns `True`.\n",
    "- If no digits are found, it returns `False`."
   ]
  },
  {
   "cell_type": "code",
   "execution_count": null,
   "id": "d7cc6633",
   "metadata": {},
   "outputs": [],
   "source": []
  },
  {
   "cell_type": "code",
   "execution_count": null,
   "id": "855c92b9",
   "metadata": {},
   "outputs": [],
   "source": []
  },
  {
   "cell_type": "markdown",
   "id": "ecd815df",
   "metadata": {},
   "source": [
    "## Second Implementation: Using any() with a Generator Expression"
   ]
  },
  {
   "cell_type": "code",
   "execution_count": 9,
   "id": "98896e54",
   "metadata": {},
   "outputs": [],
   "source": [
    "def contains_digit(input_user):\n",
    "    return any(char.isdigit() for char in input_user)"
   ]
  },
  {
   "cell_type": "markdown",
   "id": "9777f0c4",
   "metadata": {},
   "source": [
    "### Explanation\n",
    "\n",
    "- This implementation uses the `any()` function combined with a generator expression.\n",
    "- The generator expression checks each character in the `input_user` string to see if it's a digit.\n",
    "- The `any()` function returns `True` as soon as it finds a digit, making this method more efficient."
   ]
  },
  {
   "cell_type": "code",
   "execution_count": null,
   "id": "ab83438c",
   "metadata": {},
   "outputs": [],
   "source": []
  },
  {
   "cell_type": "markdown",
   "id": "f7004746",
   "metadata": {},
   "source": [
    "## ✅ Validation of Test Cases"
   ]
  },
  {
   "cell_type": "code",
   "execution_count": 10,
   "id": "9d0edfb0",
   "metadata": {},
   "outputs": [],
   "source": [
    "# Test cases for contains_digit\n",
    "digit_test_cases = [\n",
    "    ('8Essential_Python', True),\n",
    "    ('Hello_World123', True),\n",
    "    ('Data', False)]"
   ]
  },
  {
   "cell_type": "code",
   "execution_count": null,
   "id": "2e4d8e55",
   "metadata": {},
   "outputs": [],
   "source": []
  },
  {
   "cell_type": "code",
   "execution_count": 11,
   "id": "c91d1534",
   "metadata": {},
   "outputs": [
    {
     "name": "stdout",
     "output_type": "stream",
     "text": [
      "- Testing Line 1: 8Essential_Python - result=True, expected=True\n",
      "\n",
      "- Testing Line 2: Hello_World123 - result=True, expected=True\n",
      "\n",
      "- Testing Line 3: Data - result=False, expected=False\n",
      "\n",
      "Test cases validation completed..🎯🥳\n"
     ]
    }
   ],
   "source": [
    "for i, (input_user, expected) in enumerate(digit_test_cases, start=1):\n",
    "    result = contains_digit(input_user)\n",
    "    print(f\"- Testing Line {i}: {input_user} - result={result}, expected={expected}\")\n",
    "    if result != expected:\n",
    "        print(f\"Line {i}: Test case {input_user} failed: Expected {expected} but got {result}\")\n",
    "    else:\n",
    "        print(\"\")\n",
    "\n",
    "print('Test cases validation completed..🎯🥳')"
   ]
  },
  {
   "cell_type": "code",
   "execution_count": null,
   "id": "f0db95d2",
   "metadata": {},
   "outputs": [],
   "source": []
  },
  {
   "cell_type": "code",
   "execution_count": 12,
   "id": "6b63cc36",
   "metadata": {},
   "outputs": [
    {
     "data": {
      "text/plain": [
       "True"
      ]
     },
     "execution_count": 12,
     "metadata": {},
     "output_type": "execute_result"
    }
   ],
   "source": [
    "any(['Ronaldo','16','AA',''])"
   ]
  },
  {
   "cell_type": "code",
   "execution_count": 13,
   "id": "ed40da34",
   "metadata": {},
   "outputs": [
    {
     "data": {
      "text/plain": [
       "True"
      ]
     },
     "execution_count": 13,
     "metadata": {},
     "output_type": "execute_result"
    }
   ],
   "source": [
    "any(['Vini','16','AA','Y5'])"
   ]
  },
  {
   "cell_type": "code",
   "execution_count": 14,
   "id": "c6f638cd",
   "metadata": {},
   "outputs": [
    {
     "data": {
      "text/plain": [
       "False"
      ]
     },
     "execution_count": 14,
     "metadata": {},
     "output_type": "execute_result"
    }
   ],
   "source": [
    "any([0,''])"
   ]
  },
  {
   "cell_type": "code",
   "execution_count": 15,
   "id": "20ab5fc9",
   "metadata": {},
   "outputs": [
    {
     "data": {
      "text/plain": [
       "True"
      ]
     },
     "execution_count": 15,
     "metadata": {},
     "output_type": "execute_result"
    }
   ],
   "source": [
    "any([0,'M.Salah'])"
   ]
  },
  {
   "cell_type": "code",
   "execution_count": null,
   "id": "05c5a392",
   "metadata": {},
   "outputs": [],
   "source": []
  },
  {
   "cell_type": "markdown",
   "id": "86eadfbf",
   "metadata": {},
   "source": [
    "### 📋 Conclusion\n",
    "\n",
    "- Understanding different ways to implement and validate functions in Python is crucial for writing robust and efficient code.\n",
    "- By using `all()` and `any()` and exploring various implementations, we've enhanced our ability to handle different scenarios in coding.\n"
   ]
  },
  {
   "cell_type": "code",
   "execution_count": null,
   "id": "ef9bd6bc",
   "metadata": {},
   "outputs": [],
   "source": []
  },
  {
   "cell_type": "code",
   "execution_count": null,
   "id": "2548be22",
   "metadata": {},
   "outputs": [],
   "source": []
  },
  {
   "cell_type": "markdown",
   "id": "231c61ff",
   "metadata": {},
   "source": [
    "---\n",
    "# Comprehensive Guide to `enumerate()`\n",
    "\n",
    "The `enumerate()` function in Python is a handy tool for iterating over a sequence while keeping track of the index. Below are various ways to use `enumerate()` effectively.\n",
    "\n",
    "## Example 1: Basic Enumeration with Index\n",
    "\n",
    "Print each item in a list with its index using a traditional for loop with `range()` and `len()`.\n"
   ]
  },
  {
   "cell_type": "code",
   "execution_count": 16,
   "id": "90cf7b70",
   "metadata": {},
   "outputs": [
    {
     "name": "stdout",
     "output_type": "stream",
     "text": [
      "1. Egypt\n",
      "2. Spain\n",
      "3. England\n",
      "4. Qatar\n",
      "5. Saudi Arabia\n",
      "6. Jordan\n"
     ]
    }
   ],
   "source": [
    "countries = ['Egypt','Spain','England','Qatar','Saudi Arabia','Jordan']\n",
    "for index in range(len(countries)):\n",
    "    print(f'{index+1}. {countries[index]}')"
   ]
  },
  {
   "cell_type": "code",
   "execution_count": null,
   "id": "d57876f2",
   "metadata": {},
   "outputs": [],
   "source": []
  },
  {
   "cell_type": "markdown",
   "id": "4a6c8b34",
   "metadata": {},
   "source": [
    "## Example 2: Direct Iteration Over the List"
   ]
  },
  {
   "cell_type": "code",
   "execution_count": 17,
   "id": "943956d4",
   "metadata": {},
   "outputs": [
    {
     "name": "stdout",
     "output_type": "stream",
     "text": [
      "Egypt\n",
      "Spain\n",
      "England\n",
      "Qatar\n",
      "Saudi Arabia\n",
      "Jordan\n"
     ]
    }
   ],
   "source": [
    "for country in countries:\n",
    "    print(country)"
   ]
  },
  {
   "cell_type": "code",
   "execution_count": null,
   "id": "fbd79db0",
   "metadata": {},
   "outputs": [],
   "source": []
  },
  {
   "cell_type": "markdown",
   "id": "b116843e",
   "metadata": {},
   "source": [
    "## Example 3: enumerate() for Index and Value"
   ]
  },
  {
   "cell_type": "code",
   "execution_count": 18,
   "id": "525fca70",
   "metadata": {},
   "outputs": [
    {
     "name": "stdout",
     "output_type": "stream",
     "text": [
      "1. Egypt\n",
      "2. Spain\n",
      "3. England\n",
      "4. Qatar\n",
      "5. Saudi Arabia\n",
      "6. Jordan\n"
     ]
    }
   ],
   "source": [
    "for index, country in enumerate(countries, start=1):\n",
    "    print(f'{index}. {country}')"
   ]
  },
  {
   "cell_type": "code",
   "execution_count": null,
   "id": "8d057ef8",
   "metadata": {},
   "outputs": [],
   "source": []
  },
  {
   "cell_type": "markdown",
   "id": "4b7adf19",
   "metadata": {},
   "source": [
    "## Example 4: Tuple Output from enumerate()"
   ]
  },
  {
   "cell_type": "code",
   "execution_count": 19,
   "id": "d164675f",
   "metadata": {},
   "outputs": [
    {
     "name": "stdout",
     "output_type": "stream",
     "text": [
      "(1, 'Egypt')\n",
      "(2, 'Spain')\n",
      "(3, 'England')\n",
      "(4, 'Qatar')\n",
      "(5, 'Saudi Arabia')\n",
      "(6, 'Jordan')\n"
     ]
    }
   ],
   "source": [
    "for item in enumerate(countries, start=1):\n",
    "    print(item)"
   ]
  },
  {
   "cell_type": "code",
   "execution_count": null,
   "id": "1da172bb",
   "metadata": {},
   "outputs": [],
   "source": []
  },
  {
   "cell_type": "code",
   "execution_count": null,
   "id": "a6c25ac7",
   "metadata": {},
   "outputs": [],
   "source": []
  },
  {
   "cell_type": "markdown",
   "id": "56b8269b",
   "metadata": {},
   "source": [
    "# In-Depth Examples of `zip()` and `enumerate()`\n",
    "\n",
    "## Example 1: Basic Use of `zip()`\n",
    "\n",
    "The `zip()` function pairs elements from two or more lists together. This can be useful for creating tuples of related items.\n"
   ]
  },
  {
   "cell_type": "code",
   "execution_count": 20,
   "id": "deffad17",
   "metadata": {},
   "outputs": [
    {
     "name": "stdout",
     "output_type": "stream",
     "text": [
      "The Capital of Egypt is Cairo\n",
      "The Capital of Spain is Madrid\n",
      "The Capital of England is London\n",
      "The Capital of Qatar is Doha\n",
      "The Capital of Saudi Arabia is Riyadh\n",
      "The Capital of Jordan is Amman\n"
     ]
    }
   ],
   "source": [
    "countries = ['Egypt', 'Spain', 'England', 'Qatar', 'Saudi Arabia', 'Jordan']\n",
    "capitals = ['Cairo', 'Madrid', 'London', 'Doha', 'Riyadh', 'Amman']\n",
    "\n",
    "\n",
    "for country, capital in zip(countries, capitals):\n",
    "    print(f'The Capital of {country} is {capital}')"
   ]
  },
  {
   "cell_type": "code",
   "execution_count": null,
   "id": "2096b370",
   "metadata": {},
   "outputs": [],
   "source": []
  },
  {
   "cell_type": "code",
   "execution_count": null,
   "id": "5305ab9a",
   "metadata": {},
   "outputs": [],
   "source": []
  },
  {
   "cell_type": "markdown",
   "id": "c14e497b",
   "metadata": {},
   "source": [
    "## Example 2: Handling Unequal Length Lists\n",
    "\n",
    "When the lists are of different lengths, zip() stops at the end of the shortest list. To handle this situation, use zip_longest() from the itertools module to fill in missing values."
   ]
  },
  {
   "cell_type": "code",
   "execution_count": 21,
   "id": "2bec70d7",
   "metadata": {},
   "outputs": [
    {
     "name": "stdout",
     "output_type": "stream",
     "text": [
      "The capital of Egypt is Cairo\n",
      "The capital of Spain is Madrid\n",
      "The capital of England is London\n",
      "The capital of Qatar is Doha\n",
      "The capital of Saudi Arabia is Unknown\n",
      "The capital of Jordan is Unknown\n"
     ]
    }
   ],
   "source": [
    "from itertools import zip_longest\n",
    "\n",
    "countries = ['Egypt', 'Spain', 'England', 'Qatar', 'Saudi Arabia', 'Jordan']\n",
    "capitals = ['Cairo', 'Madrid', 'London', 'Doha']  # Missing some capitals\n",
    "\n",
    "\n",
    "for country, capital in zip_longest(countries, capitals, fillvalue='Unknown'):\n",
    "    print(f'The capital of {country} is {capital}')"
   ]
  },
  {
   "cell_type": "code",
   "execution_count": null,
   "id": "5e61ccae",
   "metadata": {},
   "outputs": [],
   "source": []
  },
  {
   "cell_type": "code",
   "execution_count": null,
   "id": "0630dab0",
   "metadata": {},
   "outputs": [],
   "source": []
  },
  {
   "cell_type": "code",
   "execution_count": 22,
   "id": "59e74d96",
   "metadata": {},
   "outputs": [
    {
     "name": "stdout",
     "output_type": "stream",
     "text": [
      "The Capital of Egypt is Cairo\n",
      "The Capital of Spain is Madrid\n",
      "The Capital of England is London\n",
      "The Capital of Qatar is Doha\n"
     ]
    }
   ],
   "source": [
    "countries = ['Egypt', 'Spain', 'England', 'Qatar', 'Saudi Arabia', 'Jordan']\n",
    "capitals = ['Cairo', 'Madrid', 'London', 'Doha']\n",
    "\n",
    "for country , capital in zip(countries,capitals):\n",
    "    print(f'The Capital of {country} is {capital}')"
   ]
  },
  {
   "cell_type": "code",
   "execution_count": null,
   "id": "3852ceef",
   "metadata": {},
   "outputs": [],
   "source": []
  },
  {
   "cell_type": "code",
   "execution_count": null,
   "id": "9a7a27fc",
   "metadata": {},
   "outputs": [],
   "source": []
  },
  {
   "cell_type": "markdown",
   "id": "30d6736d",
   "metadata": {},
   "source": [
    "---------"
   ]
  },
  {
   "cell_type": "markdown",
   "id": "849426ff",
   "metadata": {},
   "source": [
    "### Example 3: Creating and Unzipping Pairs"
   ]
  },
  {
   "cell_type": "code",
   "execution_count": 23,
   "id": "1b465046",
   "metadata": {},
   "outputs": [
    {
     "data": {
      "text/plain": [
       "[('Egypt', 'Cairo'),\n",
       " ('Spain', 'Madrid'),\n",
       " ('England', 'London'),\n",
       " ('Qatar', 'Doha'),\n",
       " ('Saudi Arabia', 'Riyadh'),\n",
       " ('Jordan', 'Amman')]"
      ]
     },
     "execution_count": 23,
     "metadata": {},
     "output_type": "execute_result"
    }
   ],
   "source": [
    "countries = ['Egypt', 'Spain', 'England', 'Qatar', 'Saudi Arabia', 'Jordan']\n",
    "capitals = ['Cairo', 'Madrid', 'London', 'Doha', 'Riyadh', 'Amman']\n",
    "\n",
    "# Creating pairs of countries and capitals\n",
    "pairs = list(zip(countries, capitals))\n",
    "pairs"
   ]
  },
  {
   "cell_type": "code",
   "execution_count": 24,
   "id": "af09970d",
   "metadata": {},
   "outputs": [
    {
     "data": {
      "text/plain": [
       "('Egypt', 'Spain', 'England', 'Qatar', 'Saudi Arabia', 'Jordan')"
      ]
     },
     "execution_count": 24,
     "metadata": {},
     "output_type": "execute_result"
    }
   ],
   "source": [
    "country,capital = zip(*pairs)\n",
    "country"
   ]
  },
  {
   "cell_type": "code",
   "execution_count": 25,
   "id": "fcd9c39b",
   "metadata": {},
   "outputs": [
    {
     "data": {
      "text/plain": [
       "('Cairo', 'Madrid', 'London', 'Doha', 'Riyadh', 'Amman')"
      ]
     },
     "execution_count": 25,
     "metadata": {},
     "output_type": "execute_result"
    }
   ],
   "source": [
    "capital"
   ]
  },
  {
   "cell_type": "markdown",
   "id": "7bbbb6ed",
   "metadata": {},
   "source": [
    "------"
   ]
  },
  {
   "cell_type": "code",
   "execution_count": null,
   "id": "cb161e6e",
   "metadata": {},
   "outputs": [],
   "source": []
  },
  {
   "cell_type": "markdown",
   "id": "01d4b9cb",
   "metadata": {},
   "source": [
    "# Challenge: `enumerate()` and `zip()`\n",
    "\n",
    "## Births in England and Wales (Office for National Statistics)\n",
    "\n",
    "In this challenge, you're given the number of births in England and Wales from 2010 to 2019. The list `year` contains all the years from 2010 to 2019, and the list `birth` contains the number of births for each corresponding year.\n",
    "\n",
    "Your task is to return a list of tuples where each tuple contains the year, the number of births, and the running average of births up to that year.\n",
    "\n",
    "### Explanation of Running Average\n",
    "- **For 2010**: The running average is the number of births in 2010.\n",
    "- **For 2011**: The running average is the average number of births in 2010 and 2011.\n",
    "- This pattern continues, with each year's running average being the average number of births from 2010 up to that year.\n",
    "\n",
    "<table style=\"width:100%; border-collapse: collapse;\">\n",
    "    <thead>\n",
    "        <tr style=\"background-color: #4CAF50; color: white; padding: 15px; text-align: left;\">\n",
    "            <th style=\"padding: 12px; border: 1px solid #ddd;\">Year</th>\n",
    "            <th style=\"padding: 12px; border: 1px solid #ddd;\">Number Of Births</th>\n",
    "            <th style=\"padding: 12px; border: 1px solid #ddd;\">Running Average</th>\n",
    "        </tr>\n",
    "    </thead>\n",
    "    <tbody>\n",
    "        <tr style=\"background-color: #f9f9f9; text-align: left;\">\n",
    "            <td style=\"padding: 12px; border: 1px solid #ddd;\">2010</td>\n",
    "            <td style=\"padding: 12px; border: 1px solid #ddd;\">723,165</td>\n",
    "            <td style=\"padding: 12px; border: 1px solid #ddd;\">723,165</td>\n",
    "        </tr>\n",
    "        <tr style=\"background-color: #ffffff; text-align: left;\">\n",
    "            <td style=\"padding: 12px; border: 1px solid #ddd;\">2011</td>\n",
    "            <td style=\"padding: 12px; border: 1px solid #ddd;\">723,913</td>\n",
    "            <td style=\"padding: 12px; border: 1px solid #ddd;\">723,539</td>\n",
    "        </tr>\n",
    "        <tr style=\"background-color: #f9f9f9; text-align: left;\">\n",
    "            <td style=\"padding: 12px; border: 1px solid #ddd;\">2012</td>\n",
    "            <td style=\"padding: 12px; border: 1px solid #ddd;\">729,674</td>\n",
    "            <td style=\"padding: 12px; border: 1px solid #ddd;\">726,420</td>\n",
    "        </tr>\n",
    "        <tr style=\"background-color: #ffffff; text-align: left;\">\n",
    "            <td style=\"padding: 12px; border: 1px solid #ddd;\">2013</td>\n",
    "            <td style=\"padding: 12px; border: 1px solid #ddd;\">698,512</td>\n",
    "            <td style=\"padding: 12px; border: 1px solid #ddd;\">710,839</td>\n",
    "        </tr>\n",
    "        <tr style=\"background-color: #f9f9f9; text-align: left;\">\n",
    "            <td style=\"padding: 12px; border: 1px solid #ddd;\">2014</td>\n",
    "            <td style=\"padding: 12px; border: 1px solid #ddd;\">695,233</td>\n",
    "            <td style=\"padding: 12px; border: 1px solid #ddd;\">709,199</td>\n",
    "        </tr>\n",
    "        <tr style=\"background-color: #ffffff; text-align: left;\">\n",
    "            <td style=\"padding: 12px; border: 1px solid #ddd;\">2015</td>\n",
    "            <td style=\"padding: 12px; border: 1px solid #ddd;\">697,852</td>\n",
    "            <td style=\"padding: 12px; border: 1px solid #ddd;\">710,509</td>\n",
    "        </tr>\n",
    "        <tr style=\"background-color: #f9f9f9; text-align: left;\">\n",
    "            <td style=\"padding: 12px; border: 1px solid #ddd;\">2016</td>\n",
    "            <td style=\"padding: 12px; border: 1px solid #ddd;\">696,271</td>\n",
    "            <td style=\"padding: 12px; border: 1px solid #ddd;\">709,718</td>\n",
    "        </tr>\n",
    "        <tr style=\"background-color: #ffffff; text-align: left;\">\n",
    "            <td style=\"padding: 12px; border: 1px solid #ddd;\">2017</td>\n",
    "            <td style=\"padding: 12px; border: 1px solid #ddd;\">679,106</td>\n",
    "            <td style=\"padding: 12px; border: 1px solid #ddd;\">701,136</td>\n",
    "        </tr>\n",
    "        <tr style=\"background-color: #f9f9f9; text-align: left;\">\n",
    "            <td style=\"padding: 12px; border: 1px solid #ddd;\">2018</td>\n",
    "            <td style=\"padding: 12px; border: 1px solid #ddd;\">657,076</td>\n",
    "            <td style=\"padding: 12px; border: 1px solid #ddd;\">690,121</td>\n",
    "        </tr>\n",
    "        <tr style=\"background-color: #ffffff; text-align: left;\">\n",
    "            <td style=\"padding: 12px; border: 1px solid #ddd;\">2019</td>\n",
    "            <td style=\"padding: 12px; border: 1px solid #ddd;\">640,370</td>\n",
    "            <td style=\"padding: 12px; border: 1px solid #ddd;\">681,768</td>\n",
    "        </tr>\n",
    "    </tbody>\n",
    "</table>"
   ]
  },
  {
   "cell_type": "markdown",
   "id": "f4510815",
   "metadata": {},
   "source": [
    "---"
   ]
  },
  {
   "cell_type": "code",
   "execution_count": 26,
   "id": "ed697cc5",
   "metadata": {},
   "outputs": [
    {
     "name": "stdout",
     "output_type": "stream",
     "text": [
      "(2010, 723165, 723165)\n",
      "(2011, 723913, 723539)\n",
      "(2012, 729674, 725584)\n",
      "(2013, 698512, 718816)\n",
      "(2014, 695233, 714099)\n",
      "(2015, 697852, 711392)\n",
      "(2016, 696271, 709231)\n",
      "(2017, 679106, 705466)\n",
      "(2018, 657076, 700089)\n",
      "(2019, 640370, 694117)\n"
     ]
    }
   ],
   "source": [
    "def calculate_running_average(years, births):\n",
    "    result = []\n",
    "    sum_ = 0\n",
    "    \n",
    "    # Start enumerate from 1 by specifying the start parameter\n",
    "    for index, (year, birth) in enumerate(zip(years, births), start=1):\n",
    "        sum_ += birth\n",
    "        running_average = round(sum_ / index)\n",
    "        result.append((year, birth, running_average))\n",
    "    \n",
    "    return result\n",
    "\n",
    "# Test the function with the provided data\n",
    "years = [2010, 2011, 2012, 2013, 2014, 2015, 2016, 2017, 2018, 2019]\n",
    "births = [723_165, 723_913, 729_674, 698_512, 695_233, 697_852, 696_271, 679_106, 657_076, 640_370]\n",
    "\n",
    "output = calculate_running_average(years, births)\n",
    "for record in output:\n",
    "    print(record)"
   ]
  },
  {
   "cell_type": "code",
   "execution_count": null,
   "id": "f05292f2",
   "metadata": {},
   "outputs": [],
   "source": []
  },
  {
   "cell_type": "code",
   "execution_count": null,
   "id": "c57fbfb1",
   "metadata": {},
   "outputs": [],
   "source": []
  },
  {
   "cell_type": "markdown",
   "id": "414bea16",
   "metadata": {},
   "source": [
    "# In-Depth Examples of `reversed(sequence)`\n",
    "\n",
    "## Understanding Sequences and Iterables\n",
    "\n",
    "### Sequences\n",
    "A sequence is a type of iterable that has:\n",
    "1. **A length**: You can get the number of elements in it.\n",
    "2. **An index**: You can access elements by their position.\n",
    "3. **Can be sliced**: You can get a subset of elements.\n",
    "\n",
    "**Examples of Sequences:**\n",
    "- Strings\n",
    "- Lists\n",
    "- Tuples\n",
    "\n",
    "### Iterables That Are Not Sequences\n",
    "- Dictionaries\n",
    "- Sets\n",
    "- Files\n",
    "- Generators\n",
    "\n",
    "## Reversing Sequences\n",
    "\n",
    "### Using `reverse()`\n",
    "\n",
    "The `reverse()` method reverses the sequence in-place, meaning it modifies the original sequence.\n",
    "\n",
    "**Code Example:**"
   ]
  },
  {
   "cell_type": "code",
   "execution_count": null,
   "id": "fcfe41bd",
   "metadata": {},
   "outputs": [],
   "source": []
  },
  {
   "cell_type": "code",
   "execution_count": 27,
   "id": "c15a24c0",
   "metadata": {},
   "outputs": [],
   "source": [
    "countries = ['Egypt', 'Spain', 'England', 'Qatar', 'Saudi Arabia', 'Jordan']\n",
    "countries.reverse()"
   ]
  },
  {
   "cell_type": "code",
   "execution_count": 28,
   "id": "6d36beaf",
   "metadata": {},
   "outputs": [
    {
     "data": {
      "text/plain": [
       "['Jordan', 'Saudi Arabia', 'Qatar', 'England', 'Spain', 'Egypt']"
      ]
     },
     "execution_count": 28,
     "metadata": {},
     "output_type": "execute_result"
    }
   ],
   "source": [
    "countries"
   ]
  },
  {
   "cell_type": "code",
   "execution_count": null,
   "id": "895c41e1",
   "metadata": {},
   "outputs": [],
   "source": []
  },
  {
   "cell_type": "markdown",
   "id": "43394e1a",
   "metadata": {},
   "source": [
    "## Using Slicing\n",
    "\n",
    "- Slicing with **[::-1]** creates a reversed copy of the sequence without modifying the original sequence."
   ]
  },
  {
   "cell_type": "code",
   "execution_count": 29,
   "id": "cc4abc49",
   "metadata": {},
   "outputs": [
    {
     "data": {
      "text/plain": [
       "['Egypt', 'Spain', 'England', 'Qatar', 'Saudi Arabia', 'Jordan']"
      ]
     },
     "execution_count": 29,
     "metadata": {},
     "output_type": "execute_result"
    }
   ],
   "source": [
    "countries = ['Jordan', 'Saudi Arabia', 'Qatar', 'England', 'Spain', 'Egypt']\n",
    "countries[::-1]"
   ]
  },
  {
   "cell_type": "code",
   "execution_count": null,
   "id": "0bccf905",
   "metadata": {},
   "outputs": [],
   "source": []
  },
  {
   "cell_type": "code",
   "execution_count": null,
   "id": "c52cf95e",
   "metadata": {},
   "outputs": [],
   "source": []
  },
  {
   "cell_type": "code",
   "execution_count": 30,
   "id": "521d8e8f",
   "metadata": {},
   "outputs": [
    {
     "data": {
      "text/plain": [
       "['Jordan', 'Saudi Arabia', 'Qatar', 'England', 'Spain', 'Egypt']"
      ]
     },
     "execution_count": 30,
     "metadata": {},
     "output_type": "execute_result"
    }
   ],
   "source": [
    "countries = ['Jordan', 'Saudi Arabia', 'Qatar', 'England', 'Spain', 'Egypt']\n",
    "countries"
   ]
  },
  {
   "cell_type": "code",
   "execution_count": null,
   "id": "9670e1bc",
   "metadata": {},
   "outputs": [],
   "source": []
  },
  {
   "cell_type": "markdown",
   "id": "0fa3906d",
   "metadata": {},
   "source": [
    "## Using reversed()\n",
    "- The reversed() function returns an iterator that yields elements of the sequence in reverse order. You need to convert it back to a list to see the reversed result.\n"
   ]
  },
  {
   "cell_type": "code",
   "execution_count": 31,
   "id": "7e2d3176",
   "metadata": {},
   "outputs": [
    {
     "name": "stdout",
     "output_type": "stream",
     "text": [
      "Egypt\n",
      "Spain\n",
      "England\n",
      "Qatar\n",
      "Saudi Arabia\n",
      "Jordan\n"
     ]
    }
   ],
   "source": [
    "for country in reversed(countries):\n",
    "    print(country)"
   ]
  },
  {
   "cell_type": "code",
   "execution_count": 32,
   "id": "6fa74f9c",
   "metadata": {},
   "outputs": [
    {
     "data": {
      "text/plain": [
       "['Egypt', 'Spain', 'England', 'Qatar', 'Saudi Arabia', 'Jordan']"
      ]
     },
     "execution_count": 32,
     "metadata": {},
     "output_type": "execute_result"
    }
   ],
   "source": [
    "reversed_countries = list(reversed(countries))\n",
    "reversed_countries"
   ]
  },
  {
   "cell_type": "code",
   "execution_count": null,
   "id": "ed69f246",
   "metadata": {},
   "outputs": [],
   "source": []
  },
  {
   "cell_type": "markdown",
   "id": "6e17d125",
   "metadata": {},
   "source": [
    "## Incorrect Usages"
   ]
  },
  {
   "cell_type": "code",
   "execution_count": 33,
   "id": "50526c21",
   "metadata": {},
   "outputs": [
    {
     "ename": "AttributeError",
     "evalue": "'str' object has no attribute 'reverse'",
     "output_type": "error",
     "traceback": [
      "\u001b[1;31m---------------------------------------------------------------------------\u001b[0m",
      "\u001b[1;31mAttributeError\u001b[0m                            Traceback (most recent call last)",
      "Cell \u001b[1;32mIn[33], line 1\u001b[0m\n\u001b[1;32m----> 1\u001b[0m \u001b[38;5;124m'\u001b[39m\u001b[38;5;124mEgypet\u001b[39m\u001b[38;5;124m'\u001b[39m\u001b[38;5;241m.\u001b[39mreverse()\n",
      "\u001b[1;31mAttributeError\u001b[0m: 'str' object has no attribute 'reverse'"
     ]
    }
   ],
   "source": [
    "'Egypet'.reverse()"
   ]
  },
  {
   "cell_type": "code",
   "execution_count": 34,
   "id": "fa7615c0",
   "metadata": {},
   "outputs": [
    {
     "ename": "AttributeError",
     "evalue": "'tuple' object has no attribute 'reverse'",
     "output_type": "error",
     "traceback": [
      "\u001b[1;31m---------------------------------------------------------------------------\u001b[0m",
      "\u001b[1;31mAttributeError\u001b[0m                            Traceback (most recent call last)",
      "Cell \u001b[1;32mIn[34], line 2\u001b[0m\n\u001b[0;32m      1\u001b[0m countries \u001b[38;5;241m=\u001b[39m [\u001b[38;5;124m'\u001b[39m\u001b[38;5;124mEgypt\u001b[39m\u001b[38;5;124m'\u001b[39m, \u001b[38;5;124m'\u001b[39m\u001b[38;5;124mSpain\u001b[39m\u001b[38;5;124m'\u001b[39m, \u001b[38;5;124m'\u001b[39m\u001b[38;5;124mEngland\u001b[39m\u001b[38;5;124m'\u001b[39m, \u001b[38;5;124m'\u001b[39m\u001b[38;5;124mQatar\u001b[39m\u001b[38;5;124m'\u001b[39m, \u001b[38;5;124m'\u001b[39m\u001b[38;5;124mSaudi Arabia\u001b[39m\u001b[38;5;124m'\u001b[39m, \u001b[38;5;124m'\u001b[39m\u001b[38;5;124mJordan\u001b[39m\u001b[38;5;124m'\u001b[39m]\n\u001b[1;32m----> 2\u001b[0m \u001b[38;5;28mtuple\u001b[39m(countries)\u001b[38;5;241m.\u001b[39mreverse()\n",
      "\u001b[1;31mAttributeError\u001b[0m: 'tuple' object has no attribute 'reverse'"
     ]
    }
   ],
   "source": [
    "countries = ['Egypt', 'Spain', 'England', 'Qatar', 'Saudi Arabia', 'Jordan']\n",
    "tuple(countries).reverse()"
   ]
  },
  {
   "cell_type": "code",
   "execution_count": null,
   "id": "09aaf5c8",
   "metadata": {},
   "outputs": [],
   "source": []
  },
  {
   "cell_type": "markdown",
   "id": "1cc8cb2e",
   "metadata": {},
   "source": [
    "## Reversing a string using slicing:"
   ]
  },
  {
   "cell_type": "code",
   "execution_count": 35,
   "id": "73326e4f",
   "metadata": {},
   "outputs": [
    {
     "data": {
      "text/plain": [
       "'tpygE'"
      ]
     },
     "execution_count": 35,
     "metadata": {},
     "output_type": "execute_result"
    }
   ],
   "source": [
    "'Egypt'[::-1]"
   ]
  },
  {
   "cell_type": "code",
   "execution_count": null,
   "id": "dbbc49c8",
   "metadata": {},
   "outputs": [],
   "source": []
  },
  {
   "cell_type": "markdown",
   "id": "2c9a3ac4",
   "metadata": {},
   "source": [
    "## Reversing a tuple:"
   ]
  },
  {
   "cell_type": "code",
   "execution_count": 36,
   "id": "c0d1be3a",
   "metadata": {},
   "outputs": [
    {
     "name": "stdout",
     "output_type": "stream",
     "text": [
      "Jordan\n",
      "Saudi Arabia\n",
      "Qatar\n",
      "England\n",
      "Spain\n",
      "Egypt\n"
     ]
    }
   ],
   "source": [
    "for country in reversed(tuple(countries)):\n",
    "    print(country)"
   ]
  },
  {
   "cell_type": "code",
   "execution_count": null,
   "id": "d6f613d7",
   "metadata": {},
   "outputs": [],
   "source": []
  },
  {
   "cell_type": "markdown",
   "id": "316c062a",
   "metadata": {},
   "source": [
    "# Sequence Reversal Methods in Python\n",
    "\n",
    "<table style=\"width:100%; border-collapse: collapse;\">\n",
    "    <thead>\n",
    "        <tr style=\"background-color: #4CAF50; color: white; padding: 15px; text-align: left;\">\n",
    "            <th style=\"padding: 12px; border: 1px solid #ddd;\">Method</th>\n",
    "            <th style=\"padding: 12px; border: 1px solid #ddd;\">Description</th>\n",
    "            <th style=\"padding: 12px; border: 1px solid #ddd;\">Example Code</th>\n",
    "            <th style=\"padding: 12px; border: 1px solid #ddd;\">Considerations</th>\n",
    "        </tr>\n",
    "    </thead>\n",
    "    <tbody>\n",
    "        <tr style=\"background-color: #f2f2f2; padding: 12px;\">\n",
    "            <td style=\"padding: 12px; border: 1px solid #ddd;\"><strong>`reverse()`</strong></td>\n",
    "            <td style=\"padding: 12px; border: 1px solid #ddd;\">Reverses a mutable sequence in-place</td>\n",
    "            <td style=\"padding: 12px; border: 1px solid #ddd;\">\n",
    "                <pre style=\"margin: 0; background-color: #e8f4f8; padding: 8px; border: 1px solid #ddd;\"><code>numbers = [1, 2, 3, 4, 5]\n",
    "numbers.reverse()\n",
    "print(numbers)  # Output: [5, 4, 3, 2, 1]</code></pre>\n",
    "            </td>\n",
    "            <td style=\"padding: 12px; border: 1px solid #ddd;\">\n",
    "                - Not available for immutable sequences.<br>- Modifies the list in place.\n",
    "            </td>\n",
    "        </tr>\n",
    "        <tr style=\"background-color: #ffffff; padding: 12px;\">\n",
    "            <td style=\"padding: 12px; border: 1px solid #ddd;\"><strong>Slicing `[::-1]`</strong></td>\n",
    "            <td style=\"padding: 12px; border: 1px solid #ddd;\">Creates a reversed copy of a sequence</td>\n",
    "            <td style=\"padding: 12px; border: 1px solid #ddd;\">\n",
    "                <pre style=\"margin: 0; background-color: #e8f4f8; padding: 8px; border: 1px solid #ddd;\"><code>numbers = [1, 2, 3, 4, 5]\n",
    "reversed_numbers = numbers[::-1]\n",
    "print(reversed_numbers)  # Output: [5, 4, 3, 2, 1]</code></pre>\n",
    "            </td>\n",
    "            <td style=\"padding: 12px; border: 1px solid #ddd;\">\n",
    "                - Fastest for creating a reversed copy.<br>- Creates a new list, which may be memory-intensive for large sequences.\n",
    "            </td>\n",
    "        </tr>\n",
    "        <tr style=\"background-color: #f2f2f2; padding: 12px;\">\n",
    "            <td style=\"padding: 12px; border: 1px solid #ddd;\"><strong>`reversed()`</strong></td>\n",
    "            <td style=\"padding: 12px; border: 1px solid #ddd;\">Returns a reverse iterator</td>\n",
    "            <td style=\"padding: 12px; border: 1px solid #ddd;\">\n",
    "                <pre style=\"margin: 0; background-color: #e8f4f8; padding: 8px; border: 1px solid #ddd;\"><code>numbers = [1, 2, 3, 4, 5]\n",
    "reversed_iterator = reversed(numbers)\n",
    "print(list(reversed_iterator))  # Output: [5, 4, 3, 2, 1]</code></pre>\n",
    "            </td>\n",
    "            <td style=\"padding: 12px; border: 1px solid #ddd;\">\n",
    "                - Efficient for large sequences.<br>- Does not modify the original sequence.\n",
    "            </td>\n",
    "        </tr>\n",
    "    </tbody>\n",
    "</table>\n"
   ]
  },
  {
   "cell_type": "code",
   "execution_count": null,
   "id": "c7b61f20",
   "metadata": {},
   "outputs": [],
   "source": []
  },
  {
   "cell_type": "code",
   "execution_count": null,
   "id": "cad5faef",
   "metadata": {},
   "outputs": [],
   "source": []
  },
  {
   "cell_type": "markdown",
   "id": "c98e019f",
   "metadata": {},
   "source": [
    "## Palindrome Challenge\n",
    "A palindrome is a sequence that reads the same forward and backward, ignoring spaces, punctuation, and capitalization."
   ]
  },
  {
   "cell_type": "code",
   "execution_count": 37,
   "id": "a0005e75",
   "metadata": {},
   "outputs": [
    {
     "name": "stdout",
     "output_type": "stream",
     "text": [
      "\"A man, a plan, a canal, Panama\" is a palindrome: True\n",
      "\"No 'x' in Nixon\" is a palindrome: True\n",
      "\"Hello, World!\" is a palindrome: False\n",
      "\"Was it a car or a cat I saw?\" is a palindrome: True\n",
      "\"Able was I ere I saw Elba\" is a palindrome: True\n"
     ]
    }
   ],
   "source": [
    "import re\n",
    "\n",
    "def is_palindrome(s):\n",
    "    # Normalize the string: convert to lowercase and remove non-alphanumeric characters\n",
    "    normalized_str = re.sub(r'[^a-zA-Z0-9]', '', s).lower()\n",
    "    \n",
    "    # Check if the normalized string is equal to its reverse\n",
    "    return normalized_str == normalized_str[::-1]\n",
    "\n",
    "# Test cases\n",
    "test_strings = [\n",
    "    \"A man, a plan, a canal, Panama\",\n",
    "    \"No 'x' in Nixon\",\n",
    "    \"Hello, World!\",\n",
    "    \"Was it a car or a cat I saw?\",\n",
    "    \"Able was I ere I saw Elba\"\n",
    "]\n",
    "\n",
    "# Running the function on test cases\n",
    "for test in test_strings:\n",
    "    result = is_palindrome(test)\n",
    "    print(f'\"{test}\" is a palindrome: {result}')\n"
   ]
  },
  {
   "cell_type": "code",
   "execution_count": null,
   "id": "a856a3b8",
   "metadata": {},
   "outputs": [],
   "source": []
  },
  {
   "cell_type": "code",
   "execution_count": null,
   "id": "449c3e50",
   "metadata": {},
   "outputs": [],
   "source": [
    "\n"
   ]
  },
  {
   "cell_type": "code",
   "execution_count": 38,
   "id": "bffef7fb",
   "metadata": {},
   "outputs": [],
   "source": [
    "words = 'Hello'"
   ]
  },
  {
   "cell_type": "code",
   "execution_count": 39,
   "id": "74d7724f",
   "metadata": {},
   "outputs": [
    {
     "data": {
      "text/plain": [
       "<reversed at 0x2ccb0df3550>"
      ]
     },
     "execution_count": 39,
     "metadata": {},
     "output_type": "execute_result"
    }
   ],
   "source": [
    "reversed(words)"
   ]
  },
  {
   "cell_type": "code",
   "execution_count": 40,
   "id": "e29500b4",
   "metadata": {},
   "outputs": [
    {
     "data": {
      "text/plain": [
       "'olleH'"
      ]
     },
     "execution_count": 40,
     "metadata": {},
     "output_type": "execute_result"
    }
   ],
   "source": [
    "''.join(reversed(words))"
   ]
  },
  {
   "cell_type": "code",
   "execution_count": null,
   "id": "cc4b8079",
   "metadata": {},
   "outputs": [],
   "source": []
  },
  {
   "cell_type": "code",
   "execution_count": 41,
   "id": "05c5773e",
   "metadata": {},
   "outputs": [
    {
     "name": "stdout",
     "output_type": "stream",
     "text": [
      "\"A man, a plan, a canal, Panama\" is a palindrome: True\n",
      "\"No 'x' in Nixon\" is a palindrome: True\n",
      "\"Hello, World!\" is a palindrome: False\n",
      "\"Was it a car or a cat I saw?\" is a palindrome: True\n",
      "\"Able was I ere I saw Elba\" is a palindrome: True\n"
     ]
    }
   ],
   "source": [
    "def is_palindrome(s):\n",
    "\n",
    "    normalized_str = re.sub(r'[^a-zA-Z0-9]', '', s).lower()\n",
    "    \n",
    "    # Reverse the normalized string using ''.join(reversed())\n",
    "    reversed_str = ''.join(reversed(normalized_str))\n",
    "    \n",
    "    # Check if the normalized string is equal to its reverse\n",
    "    return normalized_str == reversed_str\n",
    "\n",
    "for test in test_strings:\n",
    "    result = is_palindrome(test)\n",
    "    print(f'\"{test}\" is a palindrome: {result}')"
   ]
  },
  {
   "cell_type": "code",
   "execution_count": null,
   "id": "bcce99ca",
   "metadata": {},
   "outputs": [],
   "source": []
  },
  {
   "cell_type": "code",
   "execution_count": null,
   "id": "93f63aba",
   "metadata": {},
   "outputs": [],
   "source": []
  },
  {
   "cell_type": "code",
   "execution_count": null,
   "id": "29b221c7",
   "metadata": {},
   "outputs": [],
   "source": []
  },
  {
   "cell_type": "markdown",
   "id": "30f3cf07",
   "metadata": {},
   "source": [
    "---"
   ]
  },
  {
   "cell_type": "markdown",
   "id": "68649b69",
   "metadata": {},
   "source": [
    "# In-Depth Examples of min() and max()\n",
    "\n",
    "The min() and max() functions in Python are used to find the smallest and largest values in an iterable or among multiple arguments. "
   ]
  },
  {
   "cell_type": "code",
   "execution_count": 42,
   "id": "9486316a",
   "metadata": {},
   "outputs": [
    {
     "data": {
      "text/plain": [
       "30"
      ]
     },
     "execution_count": 42,
     "metadata": {},
     "output_type": "execute_result"
    }
   ],
   "source": [
    "max(10,22,30)"
   ]
  },
  {
   "cell_type": "markdown",
   "id": "d630b886",
   "metadata": {},
   "source": [
    "## Finding the Maximum Value"
   ]
  },
  {
   "cell_type": "code",
   "execution_count": 43,
   "id": "54e899a2",
   "metadata": {},
   "outputs": [
    {
     "name": "stdout",
     "output_type": "stream",
     "text": [
      "30\n"
     ]
    }
   ],
   "source": [
    "numbers = [10, 22, 30]\n",
    "print(max(numbers))  "
   ]
  },
  {
   "cell_type": "code",
   "execution_count": null,
   "id": "aeb38438",
   "metadata": {},
   "outputs": [],
   "source": []
  },
  {
   "cell_type": "code",
   "execution_count": 44,
   "id": "5ecbfd5d",
   "metadata": {},
   "outputs": [],
   "source": [
    "countries = ['France', 'India', 'Mexico', 'South Korea', 'Turkey', 'Italy']\n",
    "populations = [10_000_000, 20_000_000, 30_000_000, 40_000_000, 50_000_000, 60_000_000]"
   ]
  },
  {
   "cell_type": "markdown",
   "id": "15d27b4f",
   "metadata": {},
   "source": [
    "## Finding the Maximum Population"
   ]
  },
  {
   "cell_type": "code",
   "execution_count": 45,
   "id": "5b6c7653",
   "metadata": {},
   "outputs": [
    {
     "data": {
      "text/plain": [
       "60000000"
      ]
     },
     "execution_count": 45,
     "metadata": {},
     "output_type": "execute_result"
    }
   ],
   "source": [
    "max(populations)"
   ]
  },
  {
   "cell_type": "code",
   "execution_count": null,
   "id": "3b0db608",
   "metadata": {},
   "outputs": [],
   "source": []
  },
  {
   "cell_type": "markdown",
   "id": "abe86f8c",
   "metadata": {},
   "source": [
    "## Using min() and max() with Pairs\n",
    "We can use zip() to pair countries with their populations and then use min() and max() to find the country with the smallest or largest population."
   ]
  },
  {
   "cell_type": "code",
   "execution_count": 46,
   "id": "1678231e",
   "metadata": {},
   "outputs": [
    {
     "name": "stdout",
     "output_type": "stream",
     "text": [
      "[('France', 10000000), ('India', 20000000), ('Mexico', 30000000), ('South Korea', 40000000), ('Turkey', 50000000), ('Italy', 60000000)]\n"
     ]
    }
   ],
   "source": [
    "countries = ['France', 'India', 'Mexico', 'South Korea', 'Turkey', 'Italy']\n",
    "populations = [10_000_000, 20_000_000, 30_000_000, 40_000_000, 50_000_000, 60_000_000]\n",
    "\n",
    "pairs = list(zip(countries, populations))\n",
    "print(pairs)"
   ]
  },
  {
   "cell_type": "code",
   "execution_count": null,
   "id": "7bfac41b",
   "metadata": {},
   "outputs": [],
   "source": []
  },
  {
   "cell_type": "markdown",
   "id": "832f174f",
   "metadata": {},
   "source": [
    "### Finding the Country with the Minimum Population\n"
   ]
  },
  {
   "cell_type": "code",
   "execution_count": 47,
   "id": "a365fd36",
   "metadata": {},
   "outputs": [
    {
     "name": "stdout",
     "output_type": "stream",
     "text": [
      "('France', 10000000)\n"
     ]
    }
   ],
   "source": [
    "print(min(pairs))"
   ]
  },
  {
   "cell_type": "code",
   "execution_count": null,
   "id": "fa6cfc7b",
   "metadata": {},
   "outputs": [],
   "source": []
  },
  {
   "cell_type": "markdown",
   "id": "10a02e90",
   "metadata": {},
   "source": [
    "## Using a key function:"
   ]
  },
  {
   "cell_type": "code",
   "execution_count": 48,
   "id": "3a1727f5",
   "metadata": {},
   "outputs": [
    {
     "name": "stdout",
     "output_type": "stream",
     "text": [
      "('France', 10000000)\n"
     ]
    }
   ],
   "source": [
    "def get_population(pair):\n",
    "    country, population = pair\n",
    "    return population\n",
    "\n",
    "print(min(pairs, key=get_population))"
   ]
  },
  {
   "cell_type": "markdown",
   "id": "d736bbf9",
   "metadata": {},
   "source": [
    "## Using a lambda function:"
   ]
  },
  {
   "cell_type": "code",
   "execution_count": 49,
   "id": "14be4b5c",
   "metadata": {},
   "outputs": [
    {
     "name": "stdout",
     "output_type": "stream",
     "text": [
      "('France', 10000000)\n"
     ]
    }
   ],
   "source": [
    "print(min(pairs, key=lambda x: x[1]))"
   ]
  },
  {
   "cell_type": "markdown",
   "id": "150016a7",
   "metadata": {},
   "source": [
    "## Using max() directly:\n"
   ]
  },
  {
   "cell_type": "code",
   "execution_count": 50,
   "id": "6f0bb335",
   "metadata": {},
   "outputs": [
    {
     "name": "stdout",
     "output_type": "stream",
     "text": [
      "('Turkey', 50000000)\n"
     ]
    }
   ],
   "source": [
    "print(max(pairs))"
   ]
  },
  {
   "cell_type": "code",
   "execution_count": null,
   "id": "45e1374c",
   "metadata": {},
   "outputs": [],
   "source": []
  },
  {
   "cell_type": "markdown",
   "id": "eb281145",
   "metadata": {},
   "source": [
    "## Using a key function:"
   ]
  },
  {
   "cell_type": "code",
   "execution_count": 51,
   "id": "92b24aca",
   "metadata": {},
   "outputs": [
    {
     "name": "stdout",
     "output_type": "stream",
     "text": [
      "('Italy', 60000000)\n"
     ]
    }
   ],
   "source": [
    "print(max(pairs, key=get_population))"
   ]
  },
  {
   "cell_type": "code",
   "execution_count": null,
   "id": "1cb2c594",
   "metadata": {},
   "outputs": [],
   "source": []
  },
  {
   "cell_type": "markdown",
   "id": "2cb4315a",
   "metadata": {},
   "source": [
    "## Using min() and max() with Tuples"
   ]
  },
  {
   "cell_type": "code",
   "execution_count": 52,
   "id": "5281909d",
   "metadata": {},
   "outputs": [
    {
     "name": "stdout",
     "output_type": "stream",
     "text": [
      "(10000000, 'France')\n"
     ]
    }
   ],
   "source": [
    "print(min(zip(populations, countries)))"
   ]
  },
  {
   "cell_type": "code",
   "execution_count": null,
   "id": "7955cce1",
   "metadata": {},
   "outputs": [],
   "source": []
  },
  {
   "cell_type": "markdown",
   "id": "3160a20f",
   "metadata": {},
   "source": [
    "## Maximum by Population First"
   ]
  },
  {
   "cell_type": "code",
   "execution_count": 53,
   "id": "b570f8ad",
   "metadata": {},
   "outputs": [
    {
     "name": "stdout",
     "output_type": "stream",
     "text": [
      "(60000000, 'Italy')\n"
     ]
    }
   ],
   "source": [
    "print(max(zip(populations, countries)))"
   ]
  },
  {
   "cell_type": "code",
   "execution_count": null,
   "id": "6faa6d17",
   "metadata": {},
   "outputs": [],
   "source": []
  },
  {
   "cell_type": "code",
   "execution_count": 54,
   "id": "12889360",
   "metadata": {},
   "outputs": [
    {
     "name": "stdout",
     "output_type": "stream",
     "text": [
      "The country with the smallest population is France with 10000000 people.\n",
      "The country with the largest population is Italy with 60000000 people.\n"
     ]
    }
   ],
   "source": [
    "countries = ['France', 'India', 'Mexico', 'South Korea', 'Turkey', 'Italy']\n",
    "populations = [10_000_000, 20_000_000, 30_000_000, 40_000_000, 50_000_000, 60_000_000]\n",
    "\n",
    "pairs = list(zip(countries, populations))\n",
    "\n",
    "min_population_country = min(pairs, key=lambda x: x[1])\n",
    "max_population_country = max(pairs, key=lambda x: x[1])\n",
    "\n",
    "print(f'The country with the smallest population is {min_population_country[0]} with {min_population_country[1]} people.')\n",
    "print(f'The country with the largest population is {max_population_country[0]} with {max_population_country[1]} people.')\n"
   ]
  },
  {
   "cell_type": "code",
   "execution_count": null,
   "id": "8a71a248",
   "metadata": {},
   "outputs": [],
   "source": []
  },
  {
   "cell_type": "markdown",
   "id": "4a323e11",
   "metadata": {},
   "source": [
    "## Summary Table for `min()` and `max()`\n",
    "\n",
    "| Function | Example | Output | Explanation |\n",
    "| --- | --- | --- | --- |\n",
    "| `max(numbers)` | `max([10, 22, 30])` | `30` | Finds the maximum value in the list of numbers. |\n",
    "| `max(populations)` | `max([10_000_000, 20_000_000, 30_000_000, 40_000_000, 50_000_000, 60_000_000])` | `60,000,000` | Finds the maximum population in the list. |\n",
    "| `min(pairs)` | `min([('France', 10_000_000), ('India', 20_000_000), ('Mexico', 30_000_000), ('South Korea', 40_000_000), ('Turkey', 50_000_000), ('Italy', 60_000_000)])` | `('France', 10_000_000)` | Finds the minimum tuple based on the first element (country name). |\n",
    "| `max(pairs)` | `max([('France', 10_000_000), ('India', 20_000_000), ('Mexico', 30_000_000), ('South Korea', 40_000_000), ('Turkey', 50_000_000), ('Italy', 60_000_000)])` | `('Turkey', 50_000_000)` | Finds the maximum tuple based on the first element (country name). |\n",
    "| `min(pairs, key=get_population)` | `min(pairs, key=lambda x: x[1])` | `('France', 10_000_000)` | Finds the minimum tuple based on the second element (population). |\n",
    "| `max(pairs, key=get_population)` | `max(pairs, key=lambda x: x[1])` | `('Italy', 60_000_000)` | Finds the maximum tuple based on the second element (population). |\n",
    "| `min(zip(populations, countries))` | `min(zip([10_000_000, 20_000_000, 30_000_000, 40_000_000, 50_000_000, 60_000_000], ['France', 'India', 'Mexico', 'South Korea', 'Turkey', 'Italy']))` | `(10_000_000, 'France')` | Finds the minimum pair based on the population. |\n",
    "| `max(zip(populations, countries))` | `max(zip([10_000_000, 20_000_000, 30_000_000, 40_000_000, 50_000_000, 60_000_000], ['France', 'India', 'Mexico', 'South Korea', 'Turkey', 'Italy']))` | `(60_000_000, 'Italy')` | Finds the maximum pair based on the population. |\n",
    "\n",
    "**Explanation:**\n",
    "\n",
    "- The `max()` and `min()` functions are used to find the maximum and minimum values, respectively, in a list or iterable.\n",
    "- When used with `zip()`, they operate on pairs of values.\n",
    "- Using a `key` argument allows specifying a function to extract a value for comparison, which can be useful when working with tuples or other complex data structures.\n"
   ]
  },
  {
   "cell_type": "markdown",
   "id": "dc1c7da3",
   "metadata": {},
   "source": [
    "____"
   ]
  },
  {
   "cell_type": "markdown",
   "id": "7129415f",
   "metadata": {},
   "source": [
    "# Challenge max() and min()\n",
    "\n",
    "- You are given a list of valid Scrabble words from a file and a sentence. Your task is to calculate the Scrabble score for each word in the sentence based on predefined letter values and determine the word with the highest score and the word with the lowest score."
   ]
  },
  {
   "cell_type": "code",
   "execution_count": null,
   "id": "3129dd45",
   "metadata": {},
   "outputs": [],
   "source": []
  },
  {
   "cell_type": "code",
   "execution_count": 55,
   "id": "6e7c9d08",
   "metadata": {},
   "outputs": [
    {
     "data": {
      "text/plain": [
       "'C:\\\\Users\\\\elhas\\\\OneDrive\\\\Desktop\\\\8-Essential-Python-Tips-Every-Developer-Should-Know\\\\dictionary.txt'"
      ]
     },
     "execution_count": 55,
     "metadata": {},
     "output_type": "execute_result"
    }
   ],
   "source": [
    "# Let's create a sample dictionary.txt file with some Scrabble words.\n",
    "dictionary_words = [\n",
    "    \"example\", \"scrabble\", \"word\", \"python\", \"dictionary\", \"valid\", \"letters\", \"score\",\n",
    "    \"game\", \"play\", \"board\", \"tiles\", \"triple\", \"double\", \"bonus\", \"challenge\" , \"ELHASSAN\" , \"8_Essential_Python_Tips\" ,\n",
    "    \"palestinewillbefree\"\n",
    "]\n",
    "\n",
    "# Writing the words to a file named dictionary.txt\n",
    "file_path = r'C:\\Users\\elhas\\OneDrive\\Desktop\\8-Essential-Python-Tips-Every-Developer-Should-Know\\dictionary.txt'\n",
    "with open(file_path, 'w', encoding='utf-8') as file:\n",
    "    for word in dictionary_words:\n",
    "        file.write(word + '\\n')\n",
    "\n",
    "file_path"
   ]
  },
  {
   "cell_type": "code",
   "execution_count": null,
   "id": "ac1bef53",
   "metadata": {},
   "outputs": [],
   "source": []
  },
  {
   "cell_type": "code",
   "execution_count": 56,
   "id": "8bd9e4b9",
   "metadata": {},
   "outputs": [],
   "source": [
    "#with open('/mnt/data/dictionary.txt', 'w', encoding='utf-8') as file:\n",
    "#    file.write('\\n'.join(words))"
   ]
  },
  {
   "cell_type": "code",
   "execution_count": null,
   "id": "0c804f7a",
   "metadata": {},
   "outputs": [],
   "source": []
  },
  {
   "cell_type": "code",
   "execution_count": 57,
   "id": "b2222c4a",
   "metadata": {},
   "outputs": [],
   "source": [
    "import string\n",
    "\n",
    "# Define the dictionary file and letter scores\n",
    "DICTIONARY = 'dictionary.txt'\n",
    "letter_scores = {\n",
    "    'a': 1, 'b': 3, 'c': 3, 'd': 2, 'e': 1, 'f': 4, 'g': 2, 'h': 4,\n",
    "    'i': 1, 'j': 8, 'k': 5, 'l': 1, 'm': 3, 'n': 1, 'o': 1, 'p': 3,\n",
    "    'q': 10, 'r': 1, 's': 1, 't': 1, 'u': 1, 'v': 4, 'w': 4, 'x': 8,\n",
    "    'y': 4, 'z': 10\n",
    "}\n",
    "\n",
    "def get_scrabble_dictionary():\n",
    "    \"\"\"Helper function to return the words in DICTIONARY as a list.\"\"\"\n",
    "    with open(DICTIONARY, 'r', encoding='utf-8') as file:\n",
    "        content = file.read().splitlines()\n",
    "    return content\n",
    "\n",
    "def score_word(word):\n",
    "    \"\"\"Return the score for a word using letter_scores.\n",
    "    If the word isn't in DICTIONARY, it gets a score of 0.\"\"\"\n",
    "    scrabble_dictionary = set(get_scrabble_dictionary())\n",
    "    cleaned_word = remove_punctuation(word).lower()\n",
    "    if cleaned_word not in scrabble_dictionary:\n",
    "        return 0\n",
    "    score = sum(letter_scores.get(letter, 0) for letter in cleaned_word)\n",
    "    return score\n",
    "\n",
    "def remove_punctuation(word):\n",
    "    \"\"\"Helper function to remove punctuation from a word.\"\"\"\n",
    "    table = str.maketrans('', '', string.punctuation)\n",
    "    return word.translate(table)\n",
    "\n",
    "def get_word_largest_score(sentence):\n",
    "    \"\"\"Given a sentence, return the word in the sentence with the largest score.\"\"\"\n",
    "    words = sentence.split()\n",
    "    word_scores = {word: score_word(word) for word in words}\n",
    "    highest_score_word = max(word_scores, key=word_scores.get)\n",
    "    return highest_score_word, word_scores[highest_score_word]"
   ]
  },
  {
   "cell_type": "code",
   "execution_count": 58,
   "id": "9867ed14",
   "metadata": {},
   "outputs": [
    {
     "name": "stdout",
     "output_type": "stream",
     "text": [
      "The score for the word \"python\" is 14.\n",
      "The word with the highest score in the sentence is \"palestinewillbefree\" with a score of 29.\n"
     ]
    }
   ],
   "source": [
    "# Example usage\n",
    "word = \"python\"\n",
    "score = score_word(word)\n",
    "print(f'The score for the word \"{word}\" is {score}.')\n",
    "\n",
    "sentence = \"palestinewillbefree\"\n",
    "word, score = get_word_largest_score(sentence)\n",
    "print(f'The word with the highest score in the sentence is \"{word}\" with a score of {score}.')"
   ]
  },
  {
   "cell_type": "code",
   "execution_count": null,
   "id": "2bef6951",
   "metadata": {},
   "outputs": [],
   "source": []
  },
  {
   "cell_type": "code",
   "execution_count": null,
   "id": "0790028e",
   "metadata": {},
   "outputs": [],
   "source": []
  },
  {
   "cell_type": "code",
   "execution_count": null,
   "id": "c3ad1bc4",
   "metadata": {},
   "outputs": [],
   "source": []
  },
  {
   "cell_type": "markdown",
   "id": "18caf95f",
   "metadata": {},
   "source": [
    "---"
   ]
  },
  {
   "cell_type": "markdown",
   "id": "87b9f0c8",
   "metadata": {},
   "source": [
    "## In-Depth Examples of Sorted()\n",
    "\n",
    "- sorted(iterable, *, key=None, reverse=False)\n",
    "\n",
    "The sorted() function in Python offers a versatile approach to sorting elements within iterables (like lists, tuples, and strings). It creates a new sorted list, preserving the original one.\n",
    "\n",
    "- **iterable**: The data structure you want to sort (e.g., a list of countries, a string).\n",
    "- **key** (optional): A function that defines the sorting criteria. It takes one element as input and returns a value used for comparison.\n",
    "- **reverse** (optional): A boolean flag to sort in descending order (default is False for ascending)."
   ]
  },
  {
   "cell_type": "code",
   "execution_count": 59,
   "id": "150e88eb",
   "metadata": {},
   "outputs": [],
   "source": [
    "class Country:\n",
    "    def __init__(self,name,population):\n",
    "        self.name = name\n",
    "        self.population = population\n",
    "    def __repr__(self):\n",
    "        return f'Country({self.name},{self.population})'\n",
    "\n",
    "\n",
    "country_list = [\n",
    "    Country('Egypt', 110_000_000),\n",
    "    Country('Saudi Arabia', 34_000_000),\n",
    "    Country('United Arab Emirates', 9_800_000),\n",
    "    Country('Algeria', 43_000_000),\n",
    "    Country('Morocco', 36_000_000),\n",
    "    Country('Iraq', 40_000_000),\n",
    "    Country('Sudan', 43_000_000),\n",
    "    Country('Syria', 17_500_000),\n",
    "    Country('Jordan', 10_000_000),\n",
    "    Country('Palestine', 5_000_000)\n",
    "]\n"
   ]
  },
  {
   "cell_type": "code",
   "execution_count": null,
   "id": "8c21788b",
   "metadata": {},
   "outputs": [],
   "source": []
  },
  {
   "cell_type": "markdown",
   "id": "6bcb6100",
   "metadata": {},
   "source": [
    "## Ascending Order by Population\n"
   ]
  },
  {
   "cell_type": "code",
   "execution_count": 60,
   "id": "18ea5f6b",
   "metadata": {},
   "outputs": [
    {
     "data": {
      "text/plain": [
       "[Country(Palestine,5000000),\n",
       " Country(United Arab Emirates,9800000),\n",
       " Country(Jordan,10000000),\n",
       " Country(Syria,17500000),\n",
       " Country(Saudi Arabia,34000000),\n",
       " Country(Morocco,36000000),\n",
       " Country(Iraq,40000000),\n",
       " Country(Algeria,43000000),\n",
       " Country(Sudan,43000000),\n",
       " Country(Egypt,110000000)]"
      ]
     },
     "execution_count": 60,
     "metadata": {},
     "output_type": "execute_result"
    }
   ],
   "source": [
    "sorted(country_list,key=lambda x: x.population)"
   ]
  },
  {
   "cell_type": "code",
   "execution_count": null,
   "id": "d0699677",
   "metadata": {},
   "outputs": [],
   "source": []
  },
  {
   "cell_type": "markdown",
   "id": "003ad44a",
   "metadata": {},
   "source": [
    "## Descending Order by Population"
   ]
  },
  {
   "cell_type": "code",
   "execution_count": 61,
   "id": "54581c4a",
   "metadata": {},
   "outputs": [
    {
     "data": {
      "text/plain": [
       "[Country(Egypt,110000000),\n",
       " Country(Algeria,43000000),\n",
       " Country(Sudan,43000000),\n",
       " Country(Iraq,40000000),\n",
       " Country(Morocco,36000000),\n",
       " Country(Saudi Arabia,34000000),\n",
       " Country(Syria,17500000),\n",
       " Country(Jordan,10000000),\n",
       " Country(United Arab Emirates,9800000),\n",
       " Country(Palestine,5000000)]"
      ]
     },
     "execution_count": 61,
     "metadata": {},
     "output_type": "execute_result"
    }
   ],
   "source": [
    "sorted(country_list,key=lambda x: x.population, reverse=True)"
   ]
  },
  {
   "cell_type": "code",
   "execution_count": null,
   "id": "4069ee1b",
   "metadata": {},
   "outputs": [],
   "source": []
  },
  {
   "cell_type": "markdown",
   "id": "dc1c7bfa",
   "metadata": {},
   "source": [
    "## Sorting by Population (Descending Order)"
   ]
  },
  {
   "cell_type": "code",
   "execution_count": 62,
   "id": "fae26fae",
   "metadata": {},
   "outputs": [
    {
     "data": {
      "text/plain": [
       "[Country(Egypt,110000000),\n",
       " Country(Algeria,43000000),\n",
       " Country(Sudan,43000000),\n",
       " Country(Iraq,40000000),\n",
       " Country(Morocco,36000000),\n",
       " Country(Saudi Arabia,34000000),\n",
       " Country(Syria,17500000),\n",
       " Country(Jordan,10000000),\n",
       " Country(United Arab Emirates,9800000),\n",
       " Country(Palestine,5000000)]"
      ]
     },
     "execution_count": 62,
     "metadata": {},
     "output_type": "execute_result"
    }
   ],
   "source": [
    "sorted(country_list,key=lambda x: -x.population)"
   ]
  },
  {
   "cell_type": "code",
   "execution_count": null,
   "id": "1665665a",
   "metadata": {},
   "outputs": [],
   "source": []
  },
  {
   "cell_type": "markdown",
   "id": "6dfc7f6c",
   "metadata": {},
   "source": [
    "##  Sorting by Population (Primary) and Name (Secondary):"
   ]
  },
  {
   "cell_type": "code",
   "execution_count": 63,
   "id": "21c3e346",
   "metadata": {},
   "outputs": [
    {
     "data": {
      "text/plain": [
       "[Country(Egypt,110000000),\n",
       " Country(Algeria,43000000),\n",
       " Country(Sudan,43000000),\n",
       " Country(Iraq,40000000),\n",
       " Country(Morocco,36000000),\n",
       " Country(Saudi Arabia,34000000),\n",
       " Country(Syria,17500000),\n",
       " Country(Jordan,10000000),\n",
       " Country(United Arab Emirates,9800000),\n",
       " Country(Palestine,5000000)]"
      ]
     },
     "execution_count": 63,
     "metadata": {},
     "output_type": "execute_result"
    }
   ],
   "source": [
    "sorted(country_list,key=lambda x: (-x.population,x.name))"
   ]
  },
  {
   "cell_type": "code",
   "execution_count": null,
   "id": "d3c56c12",
   "metadata": {},
   "outputs": [],
   "source": []
  },
  {
   "cell_type": "markdown",
   "id": "580e1a55",
   "metadata": {},
   "source": [
    "## Handling Unsupported Operations (Error Case):"
   ]
  },
  {
   "cell_type": "code",
   "execution_count": 64,
   "id": "206f3113",
   "metadata": {},
   "outputs": [
    {
     "name": "stdout",
     "output_type": "stream",
     "text": [
      "Error: bad operand type for unary -: 'str'\n"
     ]
    }
   ],
   "source": [
    "try:\n",
    "  sorted_by_invalid = sorted(country_list, key=lambda x: (-x.population, -x.name))\n",
    "except TypeError as e:\n",
    "  print(f\"Error: {e}\")"
   ]
  },
  {
   "cell_type": "code",
   "execution_count": null,
   "id": "df24ea08",
   "metadata": {},
   "outputs": [],
   "source": []
  },
  {
   "cell_type": "markdown",
   "id": "17e67dde",
   "metadata": {},
   "source": [
    "## Sorting by Population (Descending Order) and Country Name (Ascending Order)"
   ]
  },
  {
   "cell_type": "code",
   "execution_count": 65,
   "id": "18c25268",
   "metadata": {},
   "outputs": [
    {
     "data": {
      "text/plain": [
       "[Country(Egypt,110000000),\n",
       " Country(Sudan,43000000),\n",
       " Country(Algeria,43000000),\n",
       " Country(Iraq,40000000),\n",
       " Country(Morocco,36000000),\n",
       " Country(Saudi Arabia,34000000),\n",
       " Country(Syria,17500000),\n",
       " Country(Jordan,10000000),\n",
       " Country(United Arab Emirates,9800000),\n",
       " Country(Palestine,5000000)]"
      ]
     },
     "execution_count": 65,
     "metadata": {},
     "output_type": "execute_result"
    }
   ],
   "source": [
    "sorted(country_list,key=lambda x: (x.population,x.name),reverse=True)"
   ]
  },
  {
   "cell_type": "code",
   "execution_count": null,
   "id": "474ff5ac",
   "metadata": {},
   "outputs": [],
   "source": []
  },
  {
   "cell_type": "markdown",
   "id": "cbf4a6bc",
   "metadata": {},
   "source": [
    "## Sorting a List of Country-ISO Pairs by Population"
   ]
  },
  {
   "cell_type": "code",
   "execution_count": 66,
   "id": "8d9b8a85",
   "metadata": {},
   "outputs": [],
   "source": [
    "iso = [\n",
    "    ('Egypt', 'iso110000000'),\n",
    "    ('Saudi Arabia', 'iso34000000'),\n",
    "    ('United Arab Emirates', 'iso9800000'),\n",
    "    ('Algeria', 'iso43000000'),\n",
    "    ('Morocco', 'iso36000000'),\n",
    "    ('Iraq', 'iso40000000'),\n",
    "    ('Sudan', 'iso43000000'),\n",
    "    ('Syria', 'iso17500000'),\n",
    "    ('Jordan', 'iso10000000'),\n",
    "    ('Palestine', 'iso5000000')\n",
    "]"
   ]
  },
  {
   "cell_type": "code",
   "execution_count": null,
   "id": "ec570f25",
   "metadata": {},
   "outputs": [],
   "source": []
  },
  {
   "cell_type": "markdown",
   "id": "c80bef4e",
   "metadata": {},
   "source": [
    "## Extracting and Sorting Population Data from Embedded ISO Codes"
   ]
  },
  {
   "cell_type": "code",
   "execution_count": 67,
   "id": "cc6ddd8e",
   "metadata": {},
   "outputs": [
    {
     "data": {
      "text/plain": [
       "[('Egypt', 'iso110000000'),\n",
       " ('Algeria', 'iso43000000'),\n",
       " ('Sudan', 'iso43000000'),\n",
       " ('Iraq', 'iso40000000'),\n",
       " ('Morocco', 'iso36000000'),\n",
       " ('Saudi Arabia', 'iso34000000'),\n",
       " ('Syria', 'iso17500000'),\n",
       " ('Jordan', 'iso10000000'),\n",
       " ('United Arab Emirates', 'iso9800000'),\n",
       " ('Palestine', 'iso5000000')]"
      ]
     },
     "execution_count": 67,
     "metadata": {},
     "output_type": "execute_result"
    }
   ],
   "source": [
    "def  get_population(pair):\n",
    "    counrty,population = pair\n",
    "    return int(population[3:])\n",
    "\n",
    "sorted(iso,key=get_population,reverse=True)"
   ]
  },
  {
   "cell_type": "code",
   "execution_count": null,
   "id": "7cab207a",
   "metadata": {},
   "outputs": [],
   "source": []
  },
  {
   "cell_type": "code",
   "execution_count": null,
   "id": "8c6a031b",
   "metadata": {},
   "outputs": [],
   "source": []
  },
  {
   "cell_type": "markdown",
   "id": "706e400e",
   "metadata": {},
   "source": [
    "_____"
   ]
  },
  {
   "cell_type": "markdown",
   "id": "79689d04",
   "metadata": {},
   "source": [
    "# Challenge: `sorted()`\n",
    "\n",
    "## Understanding ASCII values\n",
    "\n",
    "- We start by importing the `string` module and exploring the ASCII values for lowercase and uppercase letters."
   ]
  },
  {
   "cell_type": "code",
   "execution_count": 68,
   "id": "99707f49",
   "metadata": {},
   "outputs": [
    {
     "name": "stdout",
     "output_type": "stream",
     "text": [
      "abcdefghijklmnopqrstuvwxyz\n",
      "[97, 98, 99, 100, 101, 102, 103, 104, 105, 106, 107, 108, 109, 110, 111, 112, 113, 114, 115, 116, 117, 118, 119, 120, 121, 122]\n"
     ]
    }
   ],
   "source": [
    "import string\n",
    "\n",
    "# Lowercase ASCII values\n",
    "print(string.ascii_lowercase) \n",
    "lowercase_ascii_values = [ord(char) for char in string.ascii_lowercase]\n",
    "print(lowercase_ascii_values)"
   ]
  },
  {
   "cell_type": "code",
   "execution_count": null,
   "id": "44045992",
   "metadata": {},
   "outputs": [],
   "source": []
  },
  {
   "cell_type": "code",
   "execution_count": 69,
   "id": "07f2bfb9",
   "metadata": {},
   "outputs": [
    {
     "name": "stdout",
     "output_type": "stream",
     "text": [
      "ABCDEFGHIJKLMNOPQRSTUVWXYZ\n",
      "[65, 66, 67, 68, 69, 70, 71, 72, 73, 74, 75, 76, 77, 78, 79, 80, 81, 82, 83, 84, 85, 86, 87, 88, 89, 90]\n"
     ]
    }
   ],
   "source": [
    "# Uppercase ASCII values\n",
    "print(string.ascii_uppercase)  \n",
    "uppercase_ascii_values = [ord(char) for char in string.ascii_uppercase]\n",
    "print(uppercase_ascii_values)"
   ]
  },
  {
   "cell_type": "markdown",
   "id": "ae899dfb",
   "metadata": {},
   "source": [
    "You can see that the ASCII values for uppercase letters are lower than those for lowercase letters. This means that if we sort by letters, uppercase letters will always be displayed before lowercase letters, as observed earlier.\n"
   ]
  },
  {
   "cell_type": "code",
   "execution_count": null,
   "id": "1c2c662a",
   "metadata": {},
   "outputs": [],
   "source": []
  },
  {
   "cell_type": "markdown",
   "id": "a81d2b89",
   "metadata": {},
   "source": [
    "## Creating a Country Class"
   ]
  },
  {
   "cell_type": "code",
   "execution_count": 70,
   "id": "b5a6a654",
   "metadata": {},
   "outputs": [],
   "source": [
    "class Country:\n",
    "    def __init__(self, name, population):\n",
    "        self.name = name\n",
    "        self.population = population\n",
    "    \n",
    "    def __repr__(self):\n",
    "        return f'Country({self.name},{self.population})'\n",
    "    \n",
    "    def __eq__(self, other):\n",
    "        return f'Country({self.name}, {self.population})' == f'Country({other.name}, {other.population})'"
   ]
  },
  {
   "cell_type": "markdown",
   "id": "5b6334cc",
   "metadata": {},
   "source": [
    "## Country List\n",
    "- We define a list of tuples containing country names and their populations."
   ]
  },
  {
   "cell_type": "code",
   "execution_count": 71,
   "id": "f0f0d37e",
   "metadata": {},
   "outputs": [],
   "source": [
    "country_list = [\n",
    "    Country('Egypt', '110000000iso'),\n",
    "    Country('Saudi Arabia', '34000000iso'),\n",
    "    Country('United Arab Emirates', '9800000iso'),\n",
    "    Country('Algeria', '43000000iso'),\n",
    "    Country('Morocco', '36000000iso'),\n",
    "    Country('Iraq', '40000000iso'),\n",
    "    Country('Sudan', '43000000iso'),\n",
    "    Country('Syria', '17500000iso'),\n",
    "    Country('Jordan', '10000000iso'),\n",
    "    Country('Palestine', '5000000iso')\n",
    "]"
   ]
  },
  {
   "cell_type": "markdown",
   "id": "54882ad1",
   "metadata": {},
   "source": [
    "## Helper Function: get_population\n",
    "- We define a helper function to extract the numerical population from the population string."
   ]
  },
  {
   "cell_type": "code",
   "execution_count": 72,
   "id": "1df1847c",
   "metadata": {},
   "outputs": [],
   "source": [
    "def get_population(pair):\n",
    "    country, population = pair.name, pair.population\n",
    "    return int(population[:-3])"
   ]
  },
  {
   "cell_type": "markdown",
   "id": "c134b670",
   "metadata": {},
   "source": [
    "## Sorting the Country List\n",
    "- Finally, we create a function to sort the country list first by population and then alphabetically by country name."
   ]
  },
  {
   "cell_type": "code",
   "execution_count": 73,
   "id": "721cabc3",
   "metadata": {},
   "outputs": [
    {
     "name": "stdout",
     "output_type": "stream",
     "text": [
      "Country(Palestine,5000000iso)\n",
      "Country(United Arab Emirates,9800000iso)\n",
      "Country(Jordan,10000000iso)\n",
      "Country(Syria,17500000iso)\n",
      "Country(Saudi Arabia,34000000iso)\n",
      "Country(Morocco,36000000iso)\n",
      "Country(Iraq,40000000iso)\n",
      "Country(Algeria,43000000iso)\n",
      "Country(Sudan,43000000iso)\n",
      "Country(Egypt,110000000iso)\n"
     ]
    }
   ],
   "source": [
    "def get_sorted():\n",
    "    \"\"\"\n",
    "    Return the country list so that it is sorted first by population\n",
    "    and then alphabetically by country name.\n",
    "    \"\"\"\n",
    "    #result = sorted(country_list, key=lambda x: x.name.lower())\n",
    "    #return sorted(result,key=get_population)\n",
    "    return sorted(country_list, key=lambda x:(int(x.population[:-3]), x.name.lower()))\n",
    "\n",
    "# Print sorted countries\n",
    "sorted_countries = get_sorted()\n",
    "for country in sorted_countries:\n",
    "    print(country)"
   ]
  },
  {
   "cell_type": "code",
   "execution_count": null,
   "id": "4b55eee2",
   "metadata": {},
   "outputs": [],
   "source": []
  },
  {
   "cell_type": "code",
   "execution_count": null,
   "id": "aed80ad5",
   "metadata": {},
   "outputs": [],
   "source": []
  },
  {
   "cell_type": "markdown",
   "id": "e0248e25",
   "metadata": {},
   "source": [
    "-----------------\n",
    "-----------------"
   ]
  },
  {
   "cell_type": "code",
   "execution_count": null,
   "id": "9e14c68f",
   "metadata": {},
   "outputs": [],
   "source": []
  },
  {
   "cell_type": "code",
   "execution_count": null,
   "id": "360cccc7",
   "metadata": {},
   "outputs": [],
   "source": []
  }
 ],
 "metadata": {
  "kernelspec": {
   "display_name": "Python 3 (ipykernel)",
   "language": "python",
   "name": "python3"
  },
  "language_info": {
   "codemirror_mode": {
    "name": "ipython",
    "version": 3
   },
   "file_extension": ".py",
   "mimetype": "text/x-python",
   "name": "python",
   "nbconvert_exporter": "python",
   "pygments_lexer": "ipython3",
   "version": "3.11.8"
  }
 },
 "nbformat": 4,
 "nbformat_minor": 5
}
